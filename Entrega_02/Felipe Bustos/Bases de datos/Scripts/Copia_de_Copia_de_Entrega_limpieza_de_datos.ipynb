{
  "nbformat": 4,
  "nbformat_minor": 0,
  "metadata": {
    "colab": {
      "provenance": []
    },
    "kernelspec": {
      "name": "python3",
      "display_name": "Python 3"
    },
    "language_info": {
      "name": "python"
    }
  },
  "cells": [
    {
      "cell_type": "code",
      "execution_count": 3,
      "metadata": {
        "id": "qSZEp9yQLICk",
        "colab": {
          "base_uri": "https://localhost:8080/"
        },
        "outputId": "94fc8758-37c8-43dd-fb9f-7fa31c28c0c3"
      },
      "outputs": [
        {
          "output_type": "stream",
          "name": "stdout",
          "text": [
            "       Scientific name                                 Common names (Eng)  \\\n",
            "0   Leopardus colocola              Centreal Chilean Colocolo, Pampas Cat   \n",
            "1  Leopardus geoffroyi                                     Geoffroy's Cat   \n",
            "2     Leopardus guigna                         Guiña, Kodkod, Chilean Cat   \n",
            "3   Leopardus jacobita      Andean Cat, Mountain Cat, Andean Mountain Cat   \n",
            "4        Puma concolor  Puma, Mountain Lion, Cougar, Red Tiger, Deer T...   \n",
            "\n",
            "                  Zone                                          Countries  \\\n",
            "0            Neotropic                                              Chile   \n",
            "1            Neotropic    Bolivia|Brazil|Paraguay|Uruguay|Argentina|Chile   \n",
            "2            Neotropic                                    Chile|Argentina   \n",
            "3            Neotropic                       Peru|Bolivia|Argentina|Chile   \n",
            "4  Nearctic, Neotropic  Canada|United States|Mexico|Belize|Guatemala|H...   \n",
            "\n",
            "  Redlist Status  SEEN        Tamaño Peso hembras  \\\n",
            "0             NT   NaN    52 a 70 cm   2 a 3.7 kg   \n",
            "1             LC   NaN   Hasta 60 cm     3 a 5 kg   \n",
            "2             VU   NaN    37 a 51 cm   2 a 2,5 kg   \n",
            "3             EN   NaN    75 a 85 cm     4 a 8 kg   \n",
            "4             LC   NaN  105 a 180 cm   34 a 48 kg   \n",
            "\n",
            "                                     Peso machos  \\\n",
            "0                                     2 a 3.7 kg   \n",
            "1  3 a 5 kg (en el norte suelen ser más grandes)   \n",
            "2                                     2 a 2,5 kg   \n",
            "3                                       4 a 8 kg   \n",
            "4                                     53 a 72 kg   \n",
            "\n",
            "                              Esperanza de vida  \n",
            "0  9 años (algunos pocos han llegado a 16 años)  \n",
            "1                                   desconodido  \n",
            "2                                       11 años  \n",
            "3                              9 años a 12 años  \n",
            "4                                  10 a 13 años  \n"
          ]
        }
      ],
      "source": [
        "import pandas as pd\n",
        "\n",
        "# Mostrar el excel (cuando lo hago en csv me tira error no entiendo el porqué)\n",
        "datos = pd.read_excel(\"/content/drive/MyDrive/Colab Notebooks/Cat-checklist-at-February-2023 (1).xlsx\")\n",
        "\n",
        "# definir el filtro de las formas que se puede escribir chile con mayusculas\n",
        "chile = \"Chile\"\n",
        "chile2 = \"CHILE\"\n",
        "chile3 = \"chile\"\n",
        "\n",
        "# Filtrar los datos para las variables de búsqueda\n",
        "datos_chile = datos[datos[\"Countries\"].str.contains(chile) | datos[\"Countries\"].str.contains(chile2) | datos[\"Countries\"].str.contains(chile3)]\n",
        "\n",
        "\n",
        "# nuevos datos recolectados de diferentes sitios web (base de datos propia, fuentes en la entrega)\n",
        "datos2 = pd.read_excel(\"/content/drive/MyDrive/Colab Notebooks/Gatos datos extras.xlsx\")\n",
        "\n",
        "#fusionar datos\n",
        "fusion_de_datos = datos_chile.merge(datos2, on=\"Scientific name\", how=\"inner\")\n",
        "\n",
        "# print el resultado\n",
        "print(fusion_de_datos)\n",
        "\n",
        "#pasar a csv y descargar\n",
        "\n",
        "fusion_de_datos.to_csv(\"/content/drive/MyDrive/Colab Notebooks/resultados_fusionados.csv\", index=False)\n",
        "\n",
        "\n",
        "\n"
      ]
    },
    {
      "cell_type": "code",
      "source": [
        "from google.colab import drive\n",
        "drive.mount('/content/drive')"
      ],
      "metadata": {
        "id": "X3cZ-PlZgvec"
      },
      "execution_count": null,
      "outputs": []
    }
  ]
}