{
  "cells": [
    {
      "cell_type": "code",
      "execution_count": null,
      "metadata": {
        "id": "e7fqgxtardtZ"
      },
      "outputs": [],
      "source": [
        "#crear base de datos csv (proceso explicado en README y scripts)\n",
        "\n",
        "import pandas as pd\n",
        "import plotly.express as px\n",
        "\n",
        "# cargar csv \n",
        "csv_path = '/content/drive/MyDrive/datos_gatos_latitudes.csv'\n",
        "df = pd.read_csv(csv_path)\n",
        "\n",
        "# crear puntitos en el mapa\n",
        "fig = px.scatter_mapbox(df, lat=\"Latitud\", lon=\"Longitud\", text=\"Region\", color=\"Gato\", labels={\"Gato\": \"Categoría\"})\n",
        "\n",
        "# arreglar el diseño del mapa segun la pagina de plotly, cambiar el diseño del ciculo a un gato\n",
        "# update: no pude actualizar el circulo a un gato, no supe cómo\n",
        "fig.update_traces(marker=dict(size=10, opacity=0.7))\n",
        "fig.update_layout(\n",
        "    mapbox_style=\"open-street-map\",\n",
        "    mapbox_center={\"lat\": -30.0, \"lon\": -70.0},\n",
        "    mapbox_zoom=5,\n",
        ")\n",
        "\n",
        "# guardar el resultado en un html descargable\n",
        "fig.write_html(\"mapa_de_gatos.html\")\n"
      ]
    },
    {
      "cell_type": "code",
      "execution_count": null,
      "metadata": {
        "id": "sSKlbZUSEVCH"
      },
      "outputs": [],
      "source": []
    }
  ],
  "metadata": {
    "colab": {
      "provenance": []
    },
    "kernelspec": {
      "display_name": "Python 3",
      "name": "python3"
    },
    "language_info": {
      "name": "python"
    }
  },
  "nbformat": 4,
  "nbformat_minor": 0
}
