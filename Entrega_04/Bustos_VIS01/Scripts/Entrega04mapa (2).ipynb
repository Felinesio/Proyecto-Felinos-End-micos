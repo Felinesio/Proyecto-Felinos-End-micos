{
  "nbformat": 4,
  "nbformat_minor": 0,
  "metadata": {
    "colab": {
      "provenance": []
    },
    "kernelspec": {
      "name": "python3",
      "display_name": "Python 3"
    },
    "language_info": {
      "name": "python"
    }
  },
  "cells": [
    {
      "cell_type": "code",
      "source": [
        "import pandas as pd\n",
        "import plotly.express as px\n",
        "\n",
        "# Cargar datos desde un archivo CSV\n",
        "csv_path = '/content/drive/MyDrive/datos_gatos_latitudes.csv'\n",
        "df = pd.read_csv(csv_path)\n",
        "\n",
        "# Crear el Scatter Mapbox\n",
        "fig = px.scatter_mapbox(df, lat=\"Latitud\", lon=\"Longitud\", text=\"Region\", color=\"Gato\", labels={\"Gato\": \"Categoría\"})\n",
        "\n",
        "# Configurar el diseño del mapa\n",
        "fig.update_traces(marker=dict(size=10, opacity=0.7))\n",
        "fig.update_layout(\n",
        "    mapbox_style=\"open-street-map\",\n",
        "    mapbox_center={\"lat\": -30.0, \"lon\": -70.0},\n",
        "    mapbox_zoom=5,\n",
        ")\n",
        "\n",
        "# Guardar el gráfico en un archivo HTML\n",
        "fig.write_html(\"mapa_de_gatos.html\")\n"
      ],
      "metadata": {
        "id": "e7fqgxtardtZ"
      },
      "execution_count": null,
      "outputs": []
    },
    {
      "cell_type": "code",
      "source": [],
      "metadata": {
        "id": "sSKlbZUSEVCH"
      },
      "execution_count": null,
      "outputs": []
    }
  ]
}