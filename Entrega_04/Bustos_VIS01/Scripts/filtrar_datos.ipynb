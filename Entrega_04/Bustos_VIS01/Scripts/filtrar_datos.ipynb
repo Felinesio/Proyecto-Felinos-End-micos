{
  "nbformat": 4,
  "nbformat_minor": 0,
  "metadata": {
    "colab": {
      "provenance": []
    },
    "kernelspec": {
      "name": "python3",
      "display_name": "Python 3"
    },
    "language_info": {
      "name": "python"
    }
  },
  "cells": [
    {
      "cell_type": "code",
      "execution_count": 5,
      "metadata": {
        "id": "iOtDMcplMfu5"
      },
      "outputs": [],
      "source": [
        "import pandas as pd\n",
        "\n",
        "# Datos de las regiones\n",
        "regiones = [\n",
        "    (\"Arica y Parinacota\", -18.4746, -70.29792),\n",
        "    (\"Tarapaca\", -20.2439, -70.1389),\n",
        "    (\"Antofagasta\", -23.6508, -70.3950),\n",
        "    (\"Atacama\", -27.0658, -70.8258),\n",
        "    (\"Coquimbo\", -29.9708, -71.3069),\n",
        "    (\"Valparaiso\", -33.0333, -71.6667),\n",
        "    (\"Metropolitana\", -33.4372, -70.6572),\n",
        "    (\"O'Higgins\", -34.1619, -70.7408),\n",
        "    (\"Maule\", -35.4228, -71.6569),\n",
        "    (\"Nuble\", -36.6008, -72.1089),\n",
        "    (\"Biobio\", -36.8150, -73.0289),\n",
        "    (\"La Araucania\", -38.7269, -72.5989),\n",
        "    (\"Los Rios\", -39.8142, -73.2458),\n",
        "    (\"Los Lagos\", -41.4539, -72.9928),\n",
        "    (\"Aysen\", -45.4119, -72.6978),\n",
        "    (\"Magallanes\", -53.1478, -70.9069),\n",
        "]\n",
        "\n",
        "# Datos de los gatos y sus regiones\n",
        "gatos = {\n",
        "    \"Leopardus colocola\": [\"Tarapaca\", \"Coquimbo\", \"Valparaiso\", \"Metropolitana\", \"O'Higgins\", \"Maule\", \"Nuble\", \"Biobio\", \"La Araucania\", \"Los Rios\", \"Los Lagos\", \"Aysen\", \"Magallanes\"],\n",
        "    \"Leopardus geoffroyi\": [\"Magallanes\", \"Aysen\"],\n",
        "    \"Leopardus guigna\": [\"Coquimbo\", \"Valparaiso\", \"Metropolitana\", \"O'Higgins\", \"Maule\", \"Nuble\", \"Biobio\", \"La Araucania\", \"Los Rios\", \"Los Lagos\", \"Aysen\"],\n",
        "    \"Leopardus jacobita\": [\"Arica y Parinacota\", \"Tarapaca\", \"Antofagasta\"],\n",
        "    \"Puma concolor\": [\"Arica y Parinacota\", \"Tarapaca\", \"Antofagasta\", \"Atacama\", \"Coquimbo\", \"Valparaiso\", \"Metropolitana\", \"O'Higgins\", \"Maule\", \"Nuble\", \"Biobio\", \"La Araucania\", \"Los Rios\", \"Los Lagos\", \"Aysen\", \"Magallanes\"],\n",
        "}\n",
        "\n",
        "data = {\"Gato\": [], \"Region\": [], \"Latitud\": [], \"Longitud\": []}\n",
        "\n",
        "for gato, regiones_gato in gatos.items():\n",
        "    for region in regiones_gato:\n",
        "        nombre_region, lat, lon = next(((nombre, lat, lon) for nombre, lat, lon in regiones if nombre == region), (None, None, None))\n",
        "        if nombre_region is not None:\n",
        "            data[\"Gato\"].append(gato)\n",
        "            data[\"Region\"].append(region)\n",
        "            data[\"Latitud\"].append(lat)\n",
        "            data[\"Longitud\"].append(lon)\n",
        "\n",
        "df = pd.DataFrame(data)\n",
        "df.to_csv('datos_gatos_latitudes.csv', index=False)\n"
      ]
    }
  ]
}